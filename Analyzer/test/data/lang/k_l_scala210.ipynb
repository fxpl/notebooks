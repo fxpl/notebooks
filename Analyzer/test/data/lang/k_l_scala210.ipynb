{
	"metadata" : {
		"kernelspec" : {
			"language": "scala210"
		}
	}
}
