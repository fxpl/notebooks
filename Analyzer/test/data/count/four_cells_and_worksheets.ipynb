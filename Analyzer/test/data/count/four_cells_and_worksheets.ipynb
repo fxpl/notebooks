{
 "worksheets": [
  {
    "cells": [
      {
       "cell_type": "code"
      },
      {
       "cell_type": "markdown"
	  }
    ]
  },
  {
    "cells": [
      {
       "cell_type": "code"
      },
      {
       "cell_type": "code"
	  }
     ]
   }
  ]
  "cells" : [
      {
       "cell_type": "markdown"
      },
      {
       "cell_type": "code"
	  }
  ]
}
