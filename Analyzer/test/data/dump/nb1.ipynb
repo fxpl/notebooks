{
	"cells" : [
		{
			"cell_type" : "code",
			"source" : [
				"import numpy",
				""
			]
		},
		{
			"cell_type" : "code",
			"source" : [
				"def my_function"
				"	a = 2"
				"	b = 2"
			]
		}
	],
	"metadata" : {
		"language" : "Python"
	}
}
