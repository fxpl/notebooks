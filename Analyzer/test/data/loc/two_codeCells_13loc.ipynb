{
 "cells": [
  {
   "cell_type": "code",
   "execution_count": null,
   "metadata": {
    "collapsed": false
   },
   "outputs": [],
   "source": [
    "import csv\n",
    "\n",
    "input_file = open('autohome_with_adj_n.csv')\n",
    "output_file = open('autohome_word_only.txt', 'w')\n",
    "csv_reader = csv.reader(input_file)\n",
    "csv_writer = csv.writer(output_file)\n",
    "\n",
    "for row in csv_reader:\n",
    "    if len(row[5]) > 0:\n",
    "        csv_writer.writerow(row[5])\n",
    "    else:\n",
    "        continue"
   ]
  },
  {
   "cell_type": "code",
   "execution_count": null,
   "metadata": {
    "collapsed": false
   },
   "outputs": [],
   "source": [
    "!tail autohome_word_only.txt"
   ]
  }
 ],
 "metadata": {
  "kernelspec": {
   "display_name": "Python 3",
   "language": "python",
   "name": "python3"
  },
  "language_info": {
   "codemirror_mode": {
    "name": "ipython",
    "version": 3
   },
   "file_extension": ".py",
   "mimetype": "text/x-python",
   "name": "python",
   "nbconvert_exporter": "python",
   "pygments_lexer": "ipython3",
   "version": "3.4.3+"
  }
 },
 "nbformat": 4,
 "nbformat_minor": 0
}
