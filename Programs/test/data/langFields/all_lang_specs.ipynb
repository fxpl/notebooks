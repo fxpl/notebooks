{
	"cells" : [
		{
			"cell_type" : "code",
			"source" : [
			],
			"language" : "Scala"
		},
		{
			"cell_type" : "code",
			"source" : [
			],
			"language" : "Scala"
		}
	],
	"metadata" : {
		"kernelspec" : {
			"display_name" : "Python",
			"language" : "R",
			"name" : "kernelX"
		},
		"language": "Julia",
		"language_info" : {
			"name": "Python",
			"version" : ["should-not-be-extracted"]
		}
	}
}
