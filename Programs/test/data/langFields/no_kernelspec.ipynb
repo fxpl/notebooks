{
	"cells" : [
		{
			"cell_type" : "code",
			"source" : [
			],
			"language" : "Scala"
		},
		{
			"cell_type" : "code",
			"source" : [
			],
			"language" : "Scala"
		}
	],
	"metadata" : {
		"language": "R",
		"language_info" : {
			"name": "julia",
			"version" : ["should-not-be-extracted"]
		}
	}
}
