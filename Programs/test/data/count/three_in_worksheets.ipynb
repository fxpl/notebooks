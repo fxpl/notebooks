{
 "worksheets": [
  {
    "cells": [
      {
       "cell_type": "code"
      },
      {
       "cell_type": "markdown"
	  }
    ]
  },
  {
    "cells": [
      {
       "cell_type": "code"
      },
      {
       "cell_type": "code"
	  }
     ]
   }
  ]
}
