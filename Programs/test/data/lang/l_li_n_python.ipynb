{
	"metadata" : {
		"language": "R",
		"language_info" : {
			"name": "Python3.6"
		}
	}
}
