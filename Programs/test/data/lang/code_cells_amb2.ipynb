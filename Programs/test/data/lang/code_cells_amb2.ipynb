{
	"cells": [
		{
			"cell_type": "code",
			"language": "python"
		},
		{
			"cell_type": "code",
		}
	]
}
