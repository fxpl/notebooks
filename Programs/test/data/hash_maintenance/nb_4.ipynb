{
	"cells" : [
		{
			"cell_type" : "code",
			"source" : [
				"some unique code in other notebook"
			]
		},
		{
			"cell_type" : "code",
			"source" : [
				"some other code"
			]
		}
	]
}
