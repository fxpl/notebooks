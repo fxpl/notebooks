{
	"cells" : [
		{
			"cell_type" : "code",
			"source" : [
				""
			]
		},
		{
			"cell_type" : "code",
			"source" : [
				"some code"
			]
		},
		{
			"cell_type" : "code",
			"source" : [
				"some code"
			]
		},
		{
			"cell_type" : "code",
			"source" : [
				""
			]
		},
		{
			"cell_type" : "code",
			"source" : [
				"some other code"
			]
		}
	]
}
