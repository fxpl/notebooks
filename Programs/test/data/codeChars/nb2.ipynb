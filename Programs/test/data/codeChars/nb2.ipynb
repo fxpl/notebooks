{
	"cells" : [
		{
			"cell_type" : "markdown",
			"source" : [
				"This is a markdown cell.",
			]
		},
		{
			"cell_type" : "code",
			"source" : [
				"import pandas",
			]
		}
	],
	"metadata" : {
		"language" : "Python"
	}
}
