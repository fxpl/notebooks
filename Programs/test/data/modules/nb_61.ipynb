{
	"cells" : [
		{
			"cell_type" : "code",
			"source" : [
				"import 模組 as my碼"
			]
		}
	],
	"metadata" : {
        "language": "Python"
    }
}
