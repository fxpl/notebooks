{
	"cells" : [
		{
			"cell_type" : "code",
			"source" : [
				"import kossa tjur"
			]
		}
	],
	"metadata" : {
        "language": "Python"
    }
}
