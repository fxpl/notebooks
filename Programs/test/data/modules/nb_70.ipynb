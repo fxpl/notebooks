{
	"cells" : [
		{
			"cell_type" : "code",
			"source" : [
				"from kossan_mu import function\n",
				"import kossan_mu",
				"x = 0\n",
				"function(x)\n",
				"kossan_mu.otherFunction(x, y=32)\n",
				"kossan_mu.function(52)",
			]
		}
	],
	"metadata" : {
        "language": "Python"
    }
}

