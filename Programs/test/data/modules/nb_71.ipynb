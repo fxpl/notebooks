{
	"cells" : [
		{
			"cell_type" : "code",
			"source" : [
				"import numpy\n",
				"a = numpy.sin(1.57)\n"
			]
		},
		{
			"cell_type" : "code",
			"source" : [
				"import numpy\n",
				"b = numpy.sin(numpy.cos(3.14))\n"
			]
		},
		{
			"cell_type" : "code",
			"source" : [
				"import numpy as np\n",
				"b = np.sin(3.14)\n"
			]
		}
	],
	"metadata" : {
        "language": "Python"
    }
}

