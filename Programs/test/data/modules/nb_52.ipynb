{
	"cells" : [
		{
			"cell_type" : "code",
			"source" : [
				"importexport import import_data\n",
				"from someModule\n",
				"from_data = [import]"
			]
		}
	],
	"metadata" : {
        "language": "Python"
    }
}
