{
	"cells" : [
		{
			"cell_type" : "code",
			"source" : [
				"import parentModule.moduleX\n",
				"import moduleY\n",
				"import moduleZ"
			]
		}
	],
	"metadata" : {
        "language": "Python"
    }
}
