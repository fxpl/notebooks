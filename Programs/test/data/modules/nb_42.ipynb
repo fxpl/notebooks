{
	"cells" : [
		{
			"cell_type" : "code",
			"source" : [
				"importFunctionThatShouldBeIgnored()\n",
				"fromFunctionThatShouldBeIgnored()"
			]
		}
	],
	"metadata" : {
        "language": "Python"
    }
}
