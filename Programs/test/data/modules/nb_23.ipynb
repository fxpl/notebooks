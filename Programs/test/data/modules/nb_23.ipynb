{
	"cells" : [
		{
			"cell_type" : "code",
			"source" : [
				"from Base import (moduleA , moduleB as b ,moduleC )"
			]
		}
	],
	"metadata" : {
        "language": "Python"
    }
}
