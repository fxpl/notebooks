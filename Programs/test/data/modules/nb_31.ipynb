{
	"cells" : [
		{
			"cell_type" : "code",
			"source" : [
				"import A.B. C as child"
			]
		}
	],
	"metadata" : {
        "language": "Python"
    }
}
