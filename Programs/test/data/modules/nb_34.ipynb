{
	"cells" : [
		{
			"cell_type" : "code",
			"source" : [
				"from Base.Sub import A"
			]
		}
	],
	"metadata" : {
        "language": "Python"
    }
}
