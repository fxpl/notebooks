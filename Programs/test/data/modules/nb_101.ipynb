{
	"cells" : [
		{
			"cell_type" : "code",
			"source" : [
				"import invalid+module#name\n",
				"import 1invalid, valid"
			]
		}
	],
	"metadata" : {
        "language": "Python"
    }
}
