{
	"cells" : [
		{
			"cell_type" : "code",
			"source" : [
				"import A.B.C"
			]
		}
	],
	"metadata" : {
        "language": "Python"
    }
}
