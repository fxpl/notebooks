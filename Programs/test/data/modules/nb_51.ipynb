{
	"cells" : [
		{
			"cell_type" : "code",
			"source" : [
				"from . import someModule\n",
				"from ... import someOtherModule\n",
				"from .module import function\n",
				"from ...module2 import function2\n",
				"from .module3 import (function3a, function3b)\n",
				"from .module4 import *"
			]
		}
	],
	"metadata" : {
        "language": "Python"
    }
}
