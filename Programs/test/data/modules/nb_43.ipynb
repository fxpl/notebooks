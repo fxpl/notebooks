{
	"cells" : [
		{
			"cell_type" : "code",
			"source" : [
				"import A	# A comment, and # a comment in the comment\n",
				"import A.B as b # Another comment\n",
				"from A import C # Another comment\n",
				"from D import *	# Yet another comment"
			]
		}
	],
	"metadata" : {
        "language": "Python"
    }
}
