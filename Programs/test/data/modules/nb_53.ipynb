{
	"cells" : [
		{
			"cell_type" : "code",
			"source" : [
				"from importlib import reload\n"
			]
		}
	],
	"metadata" : {
        "language": "Python"
    }
}
