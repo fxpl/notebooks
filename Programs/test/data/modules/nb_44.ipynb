{
	"cells" : [
		{
			"cell_type" : "code",
			"source" : [
				"from numpy import *\n",
				"a = sin(s)"
			]
		},
		{
			"cell_type" : "code",
			"source" : [
				"sin(a)\n",
				"tan(a)\n"
			]
		}
	],
	"metadata" : {
        "language": "Python"
    }
}
