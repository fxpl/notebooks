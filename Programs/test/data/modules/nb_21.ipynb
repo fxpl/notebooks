{
	"cells" : [
		{
			"cell_type" : "code",
			"source" : [
				"import moduleA as a, moduleB as b ,moduleC as c"
			]
		}
	],
	"metadata" : {
        "language": "Python"
    }
}
