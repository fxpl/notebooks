{
	"cells" : [
		{
			"cell_type" : "code",
			"source" : [
				"import модуль as myкод"
			]
		}
	],
	"metadata" : {
        "language": "Python"
    }
}
