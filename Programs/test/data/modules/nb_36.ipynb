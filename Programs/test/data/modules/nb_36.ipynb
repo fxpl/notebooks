{
	"cells" : [
		{
			"cell_type" : "code",
			"source" : [
				"from Base import A\n",
				"import B\n",
				"import C.D"
			]
		},
		{
			"cell_type" : "code",
			"source" : [
				"A.fun1(15, a=0, b=3)\n",
				"B.fun1(\"apa\")\n",
				"C.D.fun2()"
			]
		},
		{
			"cell_type" : "code",
			"source" : [
				"import Base.A as a\n",
				"a.fun1(a.fun1(0))"
			]
		}
	],
	"metadata" : {
        "language": "Python"
    }
}
