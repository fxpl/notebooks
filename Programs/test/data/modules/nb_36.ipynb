{
	"cells" : [
		{
			"cell_type" : "code",
			"source" : [
				"import A\n",
				"import B\n",
				"import C"
			]
		},
		{
			"cell_type" : "code",
			"source" : [
				"A.fun1(15, a=0, b=3)\n",
				"B.fun1(\"apa\")\n",
				"C.fun2()"
			]
		},
		{
			"cell_type" : "code",
			"source" : [
				"import A as a\n",
				"a.fun1(a.fun1(0))"
			]
		}
	],
	"metadata" : {
        "language": "Python"
    }
}
