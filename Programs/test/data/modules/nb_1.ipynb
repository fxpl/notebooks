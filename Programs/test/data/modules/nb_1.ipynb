{
	"cells" : [
		{
			"cell_type" : "code",
			"source" : [
				"import kossan_mu\n",
				"x = 0\n",
				"kossan_mu.function(x)\n",
				"kossan_mu.function(x, y=32)"
			]
		}
	],
	"metadata" : {
        "language": "Python"
    }
}
