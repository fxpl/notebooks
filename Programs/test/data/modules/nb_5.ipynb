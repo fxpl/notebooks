{
	"cells" : [
		{
			"cell_type" : "code",
			"source" : [
				"import module10",
				"someObject.someMethod()",
				"import module11 as mod",
			]
		},
		{
			"cell_type" : "code",
			"source" : [
				"import module12",
				"import module13 as mod13",
				"otherObject.someMethod()",
			]
		}
	],
	"metadata" : {
        "language": "Python"
    }
}
