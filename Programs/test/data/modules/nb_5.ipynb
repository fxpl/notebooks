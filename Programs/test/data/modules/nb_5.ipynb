{
	"cells" : [
		{
			"cell_type" : "code",
			"source" : [
				"import module10\n",
				"someObject.someMethod()\n",
				"import module11 as mod",
			]
		},
		{
			"cell_type" : "code",
			"source" : [
				"import module12\n",
				"import module13 as mod13\n",
				"otherObject.someMethod()\n",
			]
		}
	],
	"metadata" : {
        "language": "Python"
    }
}
