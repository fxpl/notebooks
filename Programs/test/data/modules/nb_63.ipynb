{
	"cells" : [
		{
			"cell_type" : "code",
			"source" : [
				"import μονάδα_μέτρησης as myκώδικας"
			]
		}
	],
	"metadata" : {
        "language": "Python"
    }
}
