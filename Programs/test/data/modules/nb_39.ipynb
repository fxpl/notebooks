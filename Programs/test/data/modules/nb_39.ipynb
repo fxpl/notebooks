{
	"cells" : [
		{
			"cell_type" : "code",
			"source" : [
				"import A\ny = 2\n x = 0\nimport B.C\nfrom D import E as e",
			]
		}
	],
	"metadata" : {
        "language": "Python"
    }
}
