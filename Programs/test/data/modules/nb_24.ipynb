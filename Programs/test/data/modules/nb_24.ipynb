{
	"cells" : [
		{
			"cell_type" : "code",
			"source" : [
				"from Base import (	moduleA , moduleB as b ,moduleC , )\n",
				"from Base import moduleD, moduleE as e, moduleF,"
			]
		}
	],
	"metadata" : {
        "language": "Python"
    }
}
