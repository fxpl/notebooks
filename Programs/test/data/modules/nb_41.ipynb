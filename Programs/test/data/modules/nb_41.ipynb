{
	"cells" : [
		{
			"cell_type" : "code",
			"source" : [
				"import A\n y = 2; x = 0\n import B.C; from D import E as e",
			]
		}
	],
	"metadata" : {
        "language": "Python"
    }
}
