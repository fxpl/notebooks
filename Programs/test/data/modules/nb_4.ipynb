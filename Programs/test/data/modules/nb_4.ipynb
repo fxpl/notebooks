{
	"cells" : [
		{
			"cell_type" : "code",
			"source" : [
				"import module1",
				"import module2 as mod2",
				"someObject.someMethod()",
				"import module3 as mod3"
			]
		}
	]
}
