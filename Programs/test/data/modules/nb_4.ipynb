{
	"cells" : [
		{
			"cell_type" : "code",
			"source" : [
				"import module1\n",
				"import module2 as mod2\n",
				"someObject.someMethod()\n",
				"import module3 as mod3"
			]
		}
	],
	"metadata" : {
        "language": "Python"
    }
}
