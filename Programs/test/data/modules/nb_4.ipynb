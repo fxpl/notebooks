{
	"cells" : [
		{
			"cell_type" : "code",
			"source" : [
				"import module1\n",
				"import module2 as mod2\n",
				"someObject.someMethod()\n",
				"import module3 as mod3"
			]
		},
		{
			"cell_type" : "code",
			"source" : [
				"module1.fun1(3)\n",
				"module1.fun2(0, \"someString\"\n",
			]
		},
		{
			"cell_type" : "code",
			"source" : [
				"module1.fun3()"
			]
		},
		{
			"cell_type" : "code",
			"source" : [
				"mod2.f(mod2.f(0))"
			]
		}
	],
	"metadata" : {
        "language": "Python"
    }
}
