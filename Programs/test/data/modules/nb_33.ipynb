{
	"cells" : [
		{
			"cell_type" : "code",
			"source" : [
				"from Base import A as sub, B , C as sub2"
			]
		}
	],
	"metadata" : {
        "language": "Python"
    }
}
