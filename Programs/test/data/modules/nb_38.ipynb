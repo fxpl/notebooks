{
	"cells" : [
		{
			"cell_type" : "code",
			"source" : [
				"import A\n",
				"import B\n",
				"import C"
			]
		},
		{
			"cell_type" : "code",
			"source" : [
				"A.fun1(9, 0, 3, 6)\n",
				"A.fun4()\n",
				"C.fun2()"
			]
		},
		{
			"cell_type" : "code",
			"source" : [
				"B.fun1()"
			]
		}
	],
	"metadata" : {
        "language": "Python"
    }
}
