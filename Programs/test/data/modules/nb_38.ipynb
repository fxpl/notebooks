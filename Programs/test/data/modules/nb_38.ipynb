{
	"cells" : [
		{
			"cell_type" : "code",
			"source" : [
				"import Base.A\n",
				"import B\n",
				"import C.D"
			]
		},
		{
			"cell_type" : "code",
			"source" : [
				"Base.A.fun1(9, 0, 3, 6)\n",
				"Base.A.fun4()\n",
				"C.D.fun2()"
			]
		},
		{
			"cell_type" : "code",
			"source" : [
				"B.fun1()"
			]
		}
	],
	"metadata" : {
        "language": "Python"
    }
}
