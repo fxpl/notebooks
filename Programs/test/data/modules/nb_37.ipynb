{
	"cells" : [
		{
			"cell_type" : "code",
			"source" : [
				"import A\n",
				"import B\n",
				"import D"
			]
		},
		{
			"cell_type" : "code",
			"source" : [
				"A.fun1()\n",
				"B.fun1(\"hej\")\n",
				"fun1()"
			]
		}
	],
	"metadata" : {
        "language": "Python"
    }
}
