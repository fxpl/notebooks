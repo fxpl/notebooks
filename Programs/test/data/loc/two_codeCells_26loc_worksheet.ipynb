{
 "metadata": {
  "name": "",
  "signature": "sha256:d0a682199aeed2325beecd67cb8fa3aabc10fcebc786c8a8de77aa3aff308931"
 },
 "nbformat": 3,
 "nbformat_minor": 0,
 "worksheets": [
  {
   "cells": [
    {
     "cell_type": "code",
     "collapsed": false,
     "input": [
      "import numpy as np\n",
      "import matplotlib.pyplot as plt\n",
      "from mpl_toolkits.mplot3d import Axes3D\n",
      "from sklearn import svm\n",
      "from sklearn import metrics\n",
      "import sklearn\n",
      "import re\n",
      "\n",
      "import plotly.plotly as py\n",
      "import plotly.graph_objs as go"
     ],
     "language": "python",
     "metadata": {},
     "outputs": [],
     "prompt_number": 1
    },
    {
     "cell_type": "code",
     "collapsed": false,
     "input": [
      "np.random.seed(0)\n",
      "# create 400 points randomly distributed between -3 and 3 (along x and y)\n",
      "X = np.random.uniform(-3,3,(400,2))\n",
      "\n",
      "# points within a circle centered at (1.5, 0) of radius 1 are labeled class +1,\n",
      "# and -1 otherwise\n",
      "shift = 1.5\n",
      "radius = 1\n",
      "X_shift = X[:,0]-shift\n",
      "R_shift = np.sqrt(X_shift**2 + X[:,1]**2)\n",
      "\n",
      "# class labels\n",
      "Y = np.asarray(map(lambda x: 1 if x else -1, R_shift < radius))"
     ],
     "language": "python",
     "metadata": {},
     "outputs": [],
     "prompt_number": 2
    }
   ]
  }
 ]
}
