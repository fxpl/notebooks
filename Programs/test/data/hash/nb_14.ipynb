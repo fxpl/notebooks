{
	"cells" : [
		{
			"cell_type" : "code",
			"source" : [
				"print\n",
				" Hello\n",
				" World!"
			]
		}
	]
}
