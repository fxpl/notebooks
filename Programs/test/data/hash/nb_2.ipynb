{
	"cells" : [
		{
			"cell_type" : "code",
			"source" : [
				"import kossa\n",
				""
			]
		},
		{
			"cell_type" : "code",
			"source" : "non-unique snippet"
		},
		{
			"cell_type" : "code",
			"source" : [
				"import kossa"
			]
		}
	]
}
