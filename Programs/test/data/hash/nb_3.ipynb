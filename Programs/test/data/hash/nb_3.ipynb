{
	"cells" : [
		{
			"cell_type" : "code",
			"source" : "non-unique snippet"
		},
		{
			"cell_type" : "code",
			"source" : "unique snippet"
		}
	]
}
