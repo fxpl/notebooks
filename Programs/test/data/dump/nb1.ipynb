{
	"cells" : [
		{
			"cell_type" : "code",
			"source" : [
				"import numpy\n",
				"\t"
			]
		},
		{
			"cell_type" : "code",
			"source" : [
				"def my_function\n",
				"	a = 2\n",
				"	b = 2",
			]
		}
	],
	"metadata" : {
		"language" : "Python"
	}
}
