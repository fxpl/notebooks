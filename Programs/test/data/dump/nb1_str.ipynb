{
	"cells" : [
		{
			"cell_type" : "code",
			"source" : "import numpy\n	\n"
		},
		{
			"cell_type" : "code",
			"source" : "def my_function\n	a = 2\n	b = 2"
		}
	],
	"metadata" : {
		"language" : "Python"
	}
}
