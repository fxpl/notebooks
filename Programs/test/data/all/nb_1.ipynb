{
	"cells" : [
		{
			"cell_type" : "code",
			"source" : [
				"import numpy\n",
				""
			],
			"language" : "Python"
		}
	],
	"metadata" : {
		"language" : "Scala",
		"language_info" : {
			"name" : "Julia"
		},
		"kernelspec" : {
			"language" : "r",
			"name" : "kernelX"
		}
	}
}
